{
  "nbformat": 4,
  "nbformat_minor": 0,
  "metadata": {
    "colab": {
      "provenance": [],
      "mount_file_id": "1-loT3e1CTbkLDP2P8RPO_kVUvds3GjTr",
      "authorship_tag": "ABX9TyOmcDNhmWMsbzYUOi8S2rqc",
      "include_colab_link": true
    },
    "kernelspec": {
      "name": "python3",
      "display_name": "Python 3"
    },
    "language_info": {
      "name": "python"
    }
  },
  "cells": [
    {
      "cell_type": "markdown",
      "metadata": {
        "id": "view-in-github",
        "colab_type": "text"
      },
      "source": [
        "<a href=\"https://colab.research.google.com/github/umisalim/STQD6014_/blob/main/P151455_Project_1_STQD6014_Part4.ipynb\" target=\"_parent\"><img src=\"https://colab.research.google.com/assets/colab-badge.svg\" alt=\"Open In Colab\"/></a>"
      ]
    },
    {
      "cell_type": "code",
      "execution_count": null,
      "metadata": {
        "id": "doEsbIuoVQOt"
      },
      "outputs": [],
      "source": []
    },
    {
      "cell_type": "code",
      "source": [
        "from google.colab import drive\n",
        "drive.mount('/content/drive')"
      ],
      "metadata": {
        "colab": {
          "base_uri": "https://localhost:8080/"
        },
        "id": "UIIY9w73Vle7",
        "outputId": "ebae885e-e67f-4fc5-d0e3-9f4a8a8d30fc"
      },
      "execution_count": 1,
      "outputs": [
        {
          "output_type": "stream",
          "name": "stdout",
          "text": [
            "Mounted at /content/drive\n"
          ]
        }
      ]
    },
    {
      "cell_type": "markdown",
      "source": [
        "# PART 4 - FILES AND EXCEPTIONS"
      ],
      "metadata": {
        "id": "zDqWByA1V_i-"
      }
    },
    {
      "cell_type": "markdown",
      "source": [
        "Make two files, movie.txt and sport.txt. Store at least five names of movies and sports line by\n",
        "line in these corresponding text files.\n",
        "1. Write a program that tries to read these files and print the contents of the file to the\n",
        "screen.\n",
        "2. Add five newlines to both of these files, describing the existing contents with suitable\n",
        "explanation.\n",
        "3. Wrap your code in a try-except block to catch the FileNotFound error, and print a\n",
        "friendly message if a file is missing. Move one of the files to a different location on\n",
        "your system, and make sure the code in the except block executes properly."
      ],
      "metadata": {
        "id": "Fh5DwxHGWigi"
      }
    },
    {
      "cell_type": "code",
      "source": [
        "#check directory\n",
        "\n",
        "import os\n",
        "os.chdir('/content/drive/MyDrive/STQD6014/P151455_Project_1')\n",
        "print(os.getcwd())"
      ],
      "metadata": {
        "colab": {
          "base_uri": "https://localhost:8080/"
        },
        "id": "b2NWexM3dFSt",
        "outputId": "0b1251db-b845-4487-f059-a670a0a2d10d"
      },
      "execution_count": 30,
      "outputs": [
        {
          "output_type": "stream",
          "name": "stdout",
          "text": [
            "/content/drive/MyDrive/STQD6014/P151455_Project_1\n"
          ]
        }
      ]
    },
    {
      "cell_type": "code",
      "source": [
        "# 1. Create text files and content\n",
        "\n",
        "with open ('movie.txt', 'w') as file_object:\n",
        "  movies = ['\\nHarry Potter and the Sorcerer\\'s Stone (2001)\\n',\n",
        "  'Harry Potter and the Chamber of Secrets (2002)\\n',\n",
        "  'Harry Potter and the Prisoner of Azkaban (2004)\\n',\n",
        "  'Harry Potter and the Goblet of Fire (2005)\\n',\n",
        "  'Harry Potter and the Order of Phoenix (2007)\\n',\n",
        "  'Harry Potter and the Half-Blood Prince (2009)\\n',\n",
        "  'Harry Potter and the Deathly Hallows - Part 1 (2010)\\n',\n",
        "  'Harry Potter and the Deathly Hallows - Part 2 (2011)\\n']\n",
        "  file_object.writelines (movies)\n",
        "  print('movie.txt created.')\n",
        "\n",
        "with open ('sport.txt', 'w') as file_object:\n",
        "  sports = ['\\nIce Skating\\n','Figure Skating\\n','Skiing\\n','Ice Hockey\\n','Snowboarding\\n']\n",
        "  file_object.writelines(sports)\n",
        "  print('sport.txt created.')"
      ],
      "metadata": {
        "colab": {
          "base_uri": "https://localhost:8080/"
        },
        "id": "NVeX3XIpVmw3",
        "outputId": "8ecc4e7f-259a-49a6-accf-418d5a7c2e9f"
      },
      "execution_count": 34,
      "outputs": [
        {
          "output_type": "stream",
          "name": "stdout",
          "text": [
            "movie.txt created.\n",
            "sport.txt created.\n"
          ]
        }
      ]
    },
    {
      "cell_type": "code",
      "source": [
        "# 2. Program to read file and print contents, with try-except block for FileNotFound error\n",
        "\n",
        "def read_txt(filename):\n",
        "  try:\n",
        "    with open (filename) as file_object:\n",
        "      contents = file_object.read()\n",
        "      print('The file '+ filename +' is being read.')\n",
        "      return contents\n",
        "\n",
        "  except FileNotFoundError:\n",
        "    err_msg = 'The file '+ filename + ' was not found. Please check your file location.'\n",
        "    print (err_msg)\n",
        "\n",
        "movie_contents = read_txt('movie.txt')\n",
        "sport_contents = read_txt('sport.txt')\n",
        "\n",
        "if movie_contents:\n",
        "  print('\\nmovie.txt contents:\\n', movie_contents)\n",
        "\n",
        "if sport_contents:\n",
        "  print('\\nsport.txt contents:\\n', sport_contents)"
      ],
      "metadata": {
        "colab": {
          "base_uri": "https://localhost:8080/"
        },
        "id": "YgruzP-LIuTf",
        "outputId": "b22c0d7f-cbe1-4eb0-9ec0-416dac5a23c9"
      },
      "execution_count": 33,
      "outputs": [
        {
          "output_type": "stream",
          "name": "stdout",
          "text": [
            "The file movie.txt is being read.\n",
            "The file sport.txt was not found. Please check your file location.\n",
            "\n",
            "movie.txt contents:\n",
            " \n",
            "Harry Potter and the Sorcerer's Stone (2001)\n",
            "Harry Potter and the Chamber of Secrets (2002)\n",
            "Harry Potter and the Prisoner of Azkaban (2004)\n",
            "Harry Potter and the Goblet of Fire (2005)\n",
            "Harry Potter and the Order of Phoenix (2007)\n",
            "Harry Potter and the Half-Blood Prince (2009)\n",
            "Harry Potter and the Deathly Hallows - Part 1 (2010)\n",
            "Harry Potter and the Deathly Hallows - Part 2 (2011)\n",
            "\n"
          ]
        }
      ]
    },
    {
      "cell_type": "code",
      "source": [
        "# 3. Add 5 newlines and print content\n",
        "\n",
        "with open ('movie.txt', 'a') as file_object:\n",
        "  file_object.write('\\nThe Harry Potter movies are a series of fantasy films based on the novels by J.K. Rowling.\\n')\n",
        "  file_object.write('The series was produced and distributed by Warner Bros. Pictures and consists of eight fantasy films.\\n')\n",
        "  file_object.write('The movies are about an 11-year-old orphan named Harry Potter who discovers he is the son of wizards \\nand attends Hogwarts School of Witchcraft and Wizardry.\\n')\n",
        "  file_object.write('There he makes friends with Ron and Hermione, and together they have many adventures.\\n')\n",
        "  file_object.write('The movies are known for their imaginative, funny, and magical storytelling, as well as their special effects.\\n')\n",
        "\n",
        "with open ('sport.txt', 'a') as file_object:\n",
        "  file_object.write('\\nThe Winter Olympics are a major international event that takes place every four years.\\n')\n",
        "  file_object.write('All the events at the Winter Olympics take place in snow and ice.\\n')\n",
        "  file_object.write('These sports listed above are only some of the sports included in the event today.\\n')\n",
        "  file_object.write('Bobsled, curling, ice hockey, ski jump, skating, and skiing are the original sports competed in the first Winter Olympics.\\n')\n",
        "  file_object.write('Today, the Winter Olympics include over 100 events and 15 sports.\\n')\n",
        "\n",
        "movie_contents = read_txt('movie.txt')\n",
        "sport_contents = read_txt('sport.txt')\n",
        "\n",
        "if movie_contents:\n",
        "  print('\\nmovie.txt contents:\\n', movie_contents)\n",
        "\n",
        "if sport_contents:\n",
        "  print('\\nsport.txt contents:\\n', sport_contents)"
      ],
      "metadata": {
        "colab": {
          "base_uri": "https://localhost:8080/"
        },
        "id": "hhCOQgmeu7Kx",
        "outputId": "abb39ed4-c7de-4221-8320-765c60bbe261"
      },
      "execution_count": 35,
      "outputs": [
        {
          "output_type": "stream",
          "name": "stdout",
          "text": [
            "The file movie.txt is being read.\n",
            "The file sport.txt is being read.\n",
            "\n",
            "movie.txt contents:\n",
            " \n",
            "Harry Potter and the Sorcerer's Stone (2001)\n",
            "Harry Potter and the Chamber of Secrets (2002)\n",
            "Harry Potter and the Prisoner of Azkaban (2004)\n",
            "Harry Potter and the Goblet of Fire (2005)\n",
            "Harry Potter and the Order of Phoenix (2007)\n",
            "Harry Potter and the Half-Blood Prince (2009)\n",
            "Harry Potter and the Deathly Hallows - Part 1 (2010)\n",
            "Harry Potter and the Deathly Hallows - Part 2 (2011)\n",
            "\n",
            "The Harry Potter movies are a series of fantasy films based on the novels by J.K. Rowling.\n",
            "The series was produced and distributed by Warner Bros. Pictures and consists of eight fantasy films.\n",
            "The movies are about an 11-year-old orphan named Harry Potter who discovers he is the son of wizards \n",
            "and attends Hogwarts School of Witchcraft and Wizardry.\n",
            "There he makes friends with Ron and Hermione, and together they have many adventures.\n",
            "The movies are known for their imaginative, funny, and magical storytelling, as well as their special effects.\n",
            "\n",
            "\n",
            "sport.txt contents:\n",
            " \n",
            "Ice Skating\n",
            "Figure Skating\n",
            "Skiing\n",
            "Ice Hockey\n",
            "Snowboarding\n",
            "\n",
            "The Winter Olympics are a major international event that takes place every four years.\n",
            "All the events at the Winter Olympics take place in snow and ice.\n",
            "These sports listed above are only some of the sports included in the event today.\n",
            "Bobsled, curling, ice hockey, ski jump, skating, and skiing are the original sports competed in the first Winter Olympics.\n",
            "Today, the Winter Olympics include over 100 events and 15 sports.\n",
            "\n"
          ]
        }
      ]
    },
    {
      "cell_type": "code",
      "source": [],
      "metadata": {
        "id": "EySCEHRacod9"
      },
      "execution_count": null,
      "outputs": []
    }
  ]
}